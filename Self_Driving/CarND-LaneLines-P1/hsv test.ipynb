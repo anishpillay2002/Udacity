{
 "cells": [
  {
   "cell_type": "code",
   "execution_count": 8,
   "metadata": {
    "collapsed": false,
    "scrolled": true
   },
   "outputs": [
    {
     "data": {
      "image/png": "[encoded data removed]",
      "text/plain": [
       "<matplotlib.figure.Figure at 0x281ad8af358>"
      ]
     },
     "metadata": {},
     "output_type": "display_data"
    }
   ],
   "source": [
    "import matplotlib.pyplot as plt\n",
    "import matplotlib.image as mpim\n",
    "import numpy as np\n",
    "import cv2\n",
    "from ipywidgets import interact\n",
    "%matplotlib inline\n",
    "\n",
    "def color_detection(lower_h, upper_h, lower_s, upper_s, lower_v, upper_v):\n",
    "    img = mpim.imread('img.jpg')\n",
    "    hsv_img = cv2.cvtColor(img, cv2.COLOR_BGR2HSV)\n",
    "    \n",
    "    mask_white = cv2.inRange(hsv_img, np.array([lower_h, lower_s, lower_v]), np.array([upper_h, upper_s, upper_v]))\n",
    "    \n",
    "    plt.imshow(mask_white, cmap='gray')\n",
    "    plt.show()\n",
    "\n",
    "interact(color_detection, lower_h=(0, 255, 1), upper_h=(0, 255, 1), lower_s=(0, 255, 1), upper_s=(0, 255, 1), lower_v=(0, 255, 1), upper_v=(0, 255, 1))"
   ]
  },
  {
   "cell_type": "code",
   "execution_count": null,
   "metadata": {
    "collapsed": true
   },
   "outputs": [],
   "source": []
  }
 ],
 "metadata": {
  "anaconda-cloud": {},
  "kernelspec": {
   "display_name": "Python [conda root]",
   "language": "python",
   "name": "conda-root-py"
  },
  "language_info": {
   "codemirror_mode": {
    "name": "ipython",
    "version": 3
   },
   "file_extension": ".py",
   "mimetype": "text/x-python",
   "name": "python",
   "nbconvert_exporter": "python",
   "pygments_lexer": "ipython3",
   "version": "3.5.2"
  },
  "widgets": {
   "state": {
    "6e72118d6ede447ba6ddfaae0f4d82e7": {
     "views": [
      {
       "cell_index": 0
      }
     ]
    }
   },
   "version": "1.2.0"
  }
 },
 "nbformat": 4,
 "nbformat_minor": 1
}
